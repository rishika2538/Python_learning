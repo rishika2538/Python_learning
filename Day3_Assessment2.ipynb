{
  "nbformat": 4,
  "nbformat_minor": 0,
  "metadata": {
    "colab": {
      "provenance": [],
      "include_colab_link": true
    },
    "kernelspec": {
      "name": "python3",
      "display_name": "Python 3"
    },
    "language_info": {
      "name": "python"
    }
  },
  "cells": [
    {
      "cell_type": "markdown",
      "metadata": {
        "id": "view-in-github",
        "colab_type": "text"
      },
      "source": [
        "<a href=\"https://colab.research.google.com/github/rishika2538/Python_learning/blob/main/Day3_Assessment2.ipynb\" target=\"_parent\"><img src=\"https://colab.research.google.com/assets/colab-badge.svg\" alt=\"Open In Colab\"/></a>"
      ]
    },
    {
      "cell_type": "markdown",
      "source": [
        "## Write a python program to crate a lambda funciotn that adds 15 to a given numebr\n"
      ],
      "metadata": {
        "id": "Cu2MTBpAH98v"
      }
    },
    {
      "cell_type": "code",
      "source": [
        "# Define the lambda function\n",
        "a = lambda x: x + 15\n",
        "\n",
        "# Test the lambda function\n",
        "number = 10\n",
        "res = a(number)\n",
        "print(res)"
      ],
      "metadata": {
        "id": "QBZKf4hYIYh-",
        "colab": {
          "base_uri": "https://localhost:8080/"
        },
        "outputId": "2af8a87a-00fd-4a2f-cf7b-2f10d63e408c"
      },
      "execution_count": null,
      "outputs": [
        {
          "output_type": "stream",
          "name": "stdout",
          "text": [
            "25\n"
          ]
        }
      ]
    },
    {
      "cell_type": "markdown",
      "source": [
        "## Write a funciton to create a prime number generator"
      ],
      "metadata": {
        "id": "QvheE-ZfIJFc"
      }
    },
    {
      "cell_type": "code",
      "source": [
        "def generate_primes():\n",
        "    primes = []\n",
        "    num = 2\n",
        "    while True:\n",
        "        if all(num % prime != 0 for prime in primes):\n",
        "            yield num\n",
        "            primes.append(num)\n",
        "        num += 1\n",
        "\n",
        "res = generate_primes()\n",
        "for _ in range(10):\n",
        "    print(next(res))"
      ],
      "metadata": {
        "id": "z19r-AaMIIlC",
        "colab": {
          "base_uri": "https://localhost:8080/"
        },
        "outputId": "dfc677f7-e598-436a-9c92-5c27af611a3f"
      },
      "execution_count": null,
      "outputs": [
        {
          "output_type": "stream",
          "name": "stdout",
          "text": [
            "2\n",
            "3\n",
            "5\n",
            "7\n",
            "11\n",
            "13\n",
            "17\n",
            "19\n",
            "23\n",
            "29\n"
          ]
        }
      ]
    },
    {
      "cell_type": "markdown",
      "source": [
        "## Create a lambda funtion to filter out the even numebr from a given list"
      ],
      "metadata": {
        "id": "fgG1qcgaIZKL"
      }
    },
    {
      "cell_type": "code",
      "source": [
        "num = [1, 2, 3, 4, 5, 6, 7, 8, 9, 10]\n",
        "\n",
        "filtered_numbers = list(filter(lambda x: x % 2 == 0, num))\n",
        "\n",
        "print(\"Even numbers in the list:\", filtered_numbers)"
      ],
      "metadata": {
        "id": "FWQS-SgjImHw",
        "colab": {
          "base_uri": "https://localhost:8080/"
        },
        "outputId": "4f555b5b-bbd4-4d47-802b-0108151fd909"
      },
      "execution_count": null,
      "outputs": [
        {
          "output_type": "stream",
          "name": "stdout",
          "text": [
            "Even numbers in the list: [2, 4, 6, 8, 10]\n"
          ]
        }
      ]
    },
    {
      "cell_type": "markdown",
      "source": [
        "## Create a funciton for prime numebr generator"
      ],
      "metadata": {
        "id": "c1H7iXqDIuJI"
      }
    },
    {
      "cell_type": "code",
      "source": [
        "def generate_primes():\n",
        "    primes = []\n",
        "    num = 2\n",
        "    while True:\n",
        "        if all(num % prime != 0 for prime in primes):\n",
        "            yield num\n",
        "            primes.append(num)\n",
        "        num += 1\n",
        "\n",
        "res = generate_primes()\n",
        "for _ in range(10):\n",
        "    print(next(res))"
      ],
      "metadata": {
        "id": "B6zt1ESKI2T4",
        "colab": {
          "base_uri": "https://localhost:8080/"
        },
        "outputId": "dc14374f-6398-42f6-e371-a1b891f869d0"
      },
      "execution_count": null,
      "outputs": [
        {
          "output_type": "stream",
          "name": "stdout",
          "text": [
            "2\n",
            "3\n",
            "5\n",
            "7\n",
            "11\n",
            "13\n",
            "17\n",
            "19\n",
            "23\n",
            "29\n"
          ]
        }
      ]
    },
    {
      "cell_type": "markdown",
      "source": [
        "## create funciton for fibbonacci series generator"
      ],
      "metadata": {
        "id": "NMp0TAZaI18z"
      }
    },
    {
      "cell_type": "code",
      "source": [
        "def fibonacci():\n",
        "    a,b=0,1\n",
        "    while True:\n",
        "        yield a\n",
        "        a,b=b,a+b\n",
        "n=10\n",
        "generator=fibonacci()\n",
        "for i in range(n):\n",
        "    print(next(generator))"
      ],
      "metadata": {
        "colab": {
          "base_uri": "https://localhost:8080/"
        },
        "id": "Sfx0s3GswHyK",
        "outputId": "1c91e4cc-bdb1-4560-fb9b-f3751c1c0c34"
      },
      "execution_count": null,
      "outputs": [
        {
          "output_type": "stream",
          "name": "stdout",
          "text": [
            "0\n",
            "1\n",
            "1\n",
            "2\n",
            "3\n",
            "5\n",
            "8\n",
            "13\n",
            "21\n",
            "34\n"
          ]
        }
      ]
    }
  ]
}